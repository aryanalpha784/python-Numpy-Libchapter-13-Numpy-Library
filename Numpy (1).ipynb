{
 "cells": [
  {
   "cell_type": "code",
   "execution_count": 3,
   "id": "f89609ab-ab81-4478-9791-d35ed4136bf8",
   "metadata": {},
   "outputs": [],
   "source": [
    "import numpy as np"
   ]
  },
  {
   "cell_type": "code",
   "execution_count": 9,
   "id": "108b51c0-6675-48e9-b391-8898855b2a36",
   "metadata": {},
   "outputs": [],
   "source": [
    "arr = np.array([1,2,3,4,5,6,7])\n",
    "arr2 = np.array([[1,2,3],[4,5,6]])\n",
    "arr3 = np.array([[[1,2,3,4],[5,6,7,8]],[[9,10,11,12],[13,14,15,16]]])"
   ]
  },
  {
   "cell_type": "code",
   "execution_count": 11,
   "id": "37ee1feb-f136-46e5-92a0-6463bab83fd8",
   "metadata": {},
   "outputs": [],
   "source": [
    "#indexing"
   ]
  },
  {
   "cell_type": "code",
   "execution_count": 13,
   "id": "2d4ca9dc-18f6-4c1d-ab17-b1961187ac25",
   "metadata": {},
   "outputs": [
    {
     "data": {
      "text/plain": [
       "1"
      ]
     },
     "execution_count": 13,
     "metadata": {},
     "output_type": "execute_result"
    }
   ],
   "source": [
    "arr[0]"
   ]
  },
  {
   "cell_type": "code",
   "execution_count": 15,
   "id": "06e1bfcf-fffa-4698-8d6b-6f9f02d391b3",
   "metadata": {},
   "outputs": [
    {
     "data": {
      "text/plain": [
       "4"
      ]
     },
     "execution_count": 15,
     "metadata": {},
     "output_type": "execute_result"
    }
   ],
   "source": [
    "arr[3]"
   ]
  },
  {
   "cell_type": "code",
   "execution_count": 17,
   "id": "f7365f3c-b65c-463e-83e6-23399ebed4ce",
   "metadata": {},
   "outputs": [
    {
     "data": {
      "text/plain": [
       "3"
      ]
     },
     "execution_count": 17,
     "metadata": {},
     "output_type": "execute_result"
    }
   ],
   "source": [
    "arr2[0,2]"
   ]
  },
  {
   "cell_type": "code",
   "execution_count": 19,
   "id": "50c9ead4-2656-4e37-8530-24b15dfeab0b",
   "metadata": {},
   "outputs": [
    {
     "data": {
      "text/plain": [
       "6"
      ]
     },
     "execution_count": 19,
     "metadata": {},
     "output_type": "execute_result"
    }
   ],
   "source": [
    "arr2[1,2]"
   ]
  },
  {
   "cell_type": "code",
   "execution_count": 25,
   "id": "f2d6ab8b-cad4-483e-a736-5f61b9027ef6",
   "metadata": {},
   "outputs": [
    {
     "data": {
      "text/plain": [
       "8"
      ]
     },
     "execution_count": 25,
     "metadata": {},
     "output_type": "execute_result"
    }
   ],
   "source": [
    "arr3[0,1,3]"
   ]
  },
  {
   "cell_type": "code",
   "execution_count": 27,
   "id": "26acbfe4-371f-41e1-a7de-42e5a1a81316",
   "metadata": {},
   "outputs": [
    {
     "data": {
      "text/plain": [
       "14"
      ]
     },
     "execution_count": 27,
     "metadata": {},
     "output_type": "execute_result"
    }
   ],
   "source": [
    "arr3[1,1,1]"
   ]
  },
  {
   "cell_type": "code",
   "execution_count": 33,
   "id": "0ad05cf0-65dd-433f-9bd8-0aa32e03f3f4",
   "metadata": {},
   "outputs": [],
   "source": [
    "#slicing"
   ]
  },
  {
   "cell_type": "code",
   "execution_count": 39,
   "id": "3365c9bf-e70f-40e6-8fa4-b7e7a0ce020b",
   "metadata": {},
   "outputs": [],
   "source": [
    "arr = np.array([1,2,3,4,5,6,7])\n",
    "arr2 = np.array([[1,2,3],[4,5,6]])\n",
    "arr3 = np.array([[[1,2,3,4],[5,6,7,8]],[[9,10,11,12],[13,14,15,16]]])"
   ]
  },
  {
   "cell_type": "code",
   "execution_count": 43,
   "id": "06f934cd-5230-4721-8ff6-27e6bb44788f",
   "metadata": {},
   "outputs": [
    {
     "data": {
      "text/plain": [
       "array([1, 2, 3, 4, 5, 6])"
      ]
     },
     "execution_count": 43,
     "metadata": {},
     "output_type": "execute_result"
    }
   ],
   "source": [
    "arr[0:6]"
   ]
  },
  {
   "cell_type": "code",
   "execution_count": 45,
   "id": "367e2d89-fd4c-469c-bb56-a40b18fb5bd1",
   "metadata": {},
   "outputs": [
    {
     "data": {
      "text/plain": [
       "array([1, 2])"
      ]
     },
     "execution_count": 45,
     "metadata": {},
     "output_type": "execute_result"
    }
   ],
   "source": [
    "arr2[0,0:2]"
   ]
  },
  {
   "cell_type": "code",
   "execution_count": 47,
   "id": "466211c2-658e-4f6b-b509-bb3353765c07",
   "metadata": {},
   "outputs": [
    {
     "data": {
      "text/plain": [
       "array([ 9, 10, 11])"
      ]
     },
     "execution_count": 47,
     "metadata": {},
     "output_type": "execute_result"
    }
   ],
   "source": [
    "arr3[1,0,0:3]"
   ]
  },
  {
   "cell_type": "code",
   "execution_count": 49,
   "id": "f9b00acb-dba7-4205-8c39-f7361a411b45",
   "metadata": {},
   "outputs": [],
   "source": [
    "arr = np.array([[[1,3,4,5],[6,7,8,9]],[[10,11,12,13],[14,15,16,17]]], dtype = 'S')"
   ]
  },
  {
   "cell_type": "code",
   "execution_count": 51,
   "id": "d628ad69-12db-4ddd-8283-d0eb3b799a9c",
   "metadata": {},
   "outputs": [
    {
     "data": {
      "text/plain": [
       "array([[[b'1', b'3', b'4', b'5'],\n",
       "        [b'6', b'7', b'8', b'9']],\n",
       "\n",
       "       [[b'10', b'11', b'12', b'13'],\n",
       "        [b'14', b'15', b'16', b'17']]], dtype='|S2')"
      ]
     },
     "execution_count": 51,
     "metadata": {},
     "output_type": "execute_result"
    }
   ],
   "source": [
    "arr"
   ]
  },
  {
   "cell_type": "code",
   "execution_count": 62,
   "id": "a16dfef5-7c2e-46ac-926d-2d38707e0259",
   "metadata": {},
   "outputs": [],
   "source": [
    "arr = np.array([1,2,3,4,5,6,7], ndmin = 5)"
   ]
  },
  {
   "cell_type": "code",
   "execution_count": 64,
   "id": "19e0f98b-88a4-4b6c-9de1-ca7b7b8a7130",
   "metadata": {},
   "outputs": [
    {
     "data": {
      "text/plain": [
       "5"
      ]
     },
     "execution_count": 64,
     "metadata": {},
     "output_type": "execute_result"
    }
   ],
   "source": [
    "arr.ndim"
   ]
  },
  {
   "cell_type": "code",
   "execution_count": 70,
   "id": "9e5e13ff-4c3a-4bf8-ac32-3aaf938e76c1",
   "metadata": {},
   "outputs": [],
   "source": [
    "a = ([[[1,2,3],[4,5,6]],[[7,8,9],[10,11,12]]])\n",
    "b = ([[[1,2,3],[4,5,6]],[[7,8,9],[10,11,12]]])\n",
    "\n",
    "arr = np.concatenate((a, b), axis = 1)"
   ]
  },
  {
   "cell_type": "code",
   "execution_count": 72,
   "id": "850f0ada-82a8-4596-98aa-a1da0ea01545",
   "metadata": {},
   "outputs": [
    {
     "data": {
      "text/plain": [
       "array([[[ 1,  2,  3],\n",
       "        [ 4,  5,  6],\n",
       "        [ 1,  2,  3],\n",
       "        [ 4,  5,  6]],\n",
       "\n",
       "       [[ 7,  8,  9],\n",
       "        [10, 11, 12],\n",
       "        [ 7,  8,  9],\n",
       "        [10, 11, 12]]])"
      ]
     },
     "execution_count": 72,
     "metadata": {},
     "output_type": "execute_result"
    }
   ],
   "source": [
    "arr"
   ]
  },
  {
   "cell_type": "code",
   "execution_count": 76,
   "id": "651ba2d4-a346-45e6-b2cc-5abb949e3355",
   "metadata": {},
   "outputs": [
    {
     "name": "stdout",
     "output_type": "stream",
     "text": [
      "[[[1, 2, 3], [4, 5, 6]], [[7, 8, 9], [10, 11, 12]]]\n",
      "[[[1, 2, 3], [4, 5, 6]], [[7, 8, 9], [10, 11, 12]]]\n"
     ]
    }
   ],
   "source": [
    "print(a)\n",
    "print(b)"
   ]
  },
  {
   "cell_type": "code",
   "execution_count": 78,
   "id": "c0cbf8d6-0497-453f-9434-0b9444ab25a7",
   "metadata": {},
   "outputs": [],
   "source": [
    "#split"
   ]
  },
  {
   "cell_type": "code",
   "execution_count": 84,
   "id": "08796a30-091d-4d08-b5b1-a7cc9697af67",
   "metadata": {},
   "outputs": [],
   "source": [
    "a = np.array([1,2,3,4,5,6,7,8])\n",
    "arr = np.array_split(a,3)"
   ]
  },
  {
   "cell_type": "code",
   "execution_count": 86,
   "id": "2295fc53-a64a-403c-a686-69fc91b47805",
   "metadata": {},
   "outputs": [
    {
     "data": {
      "text/plain": [
       "[array([1, 2, 3]), array([4, 5, 6]), array([7, 8])]"
      ]
     },
     "execution_count": 86,
     "metadata": {},
     "output_type": "execute_result"
    }
   ],
   "source": [
    "arr"
   ]
  },
  {
   "cell_type": "code",
   "execution_count": 88,
   "id": "4be171cc-6e5b-4f6f-aa33-762af7b31adb",
   "metadata": {},
   "outputs": [],
   "source": [
    "#ravel and flatten"
   ]
  },
  {
   "cell_type": "code",
   "execution_count": 94,
   "id": "a929a1df-a17f-4eca-8a54-543948b29ce4",
   "metadata": {},
   "outputs": [
    {
     "name": "stdout",
     "output_type": "stream",
     "text": [
      "[[[ 1  2  3]\n",
      "  [ 4  5  6]]\n",
      "\n",
      " [[ 7  8  9]\n",
      "  [10 11 12]]]\n",
      "[ 1  2  3  4  5  6  7  8  9 10 11 12]\n"
     ]
    }
   ],
   "source": [
    "m = np.array([[[1, 2, 3], [4, 5, 6]], [[7, 8, 9], [10, 11, 12]]])\n",
    "n = m.flatten()\n",
    "\n",
    "print(m)\n",
    "print(n)"
   ]
  },
  {
   "cell_type": "code",
   "execution_count": 96,
   "id": "d8fa9253-4f88-4a54-8c97-e344e114b7b6",
   "metadata": {},
   "outputs": [],
   "source": [
    "#Unique Function"
   ]
  },
  {
   "cell_type": "code",
   "execution_count": 108,
   "id": "90e2717b-1ce3-4fb2-b6c0-5be2e7e1472a",
   "metadata": {},
   "outputs": [
    {
     "name": "stdout",
     "output_type": "stream",
     "text": [
      "[12  1  4  6  7  9  3  4  5 22 33  7  6  9  1  2 12]\n",
      "[ 1  2  3  4  5  6  7  9 12 22 33]\n"
     ]
    }
   ],
   "source": [
    "k = np.array([12,1,4,6,7,9,3,4,5,22,33,7,6,9,1,2,12])\n",
    "print(k)\n",
    "x = np.unique(k)\n",
    "print(x)"
   ]
  },
  {
   "cell_type": "code",
   "execution_count": 110,
   "id": "802c834c-23b7-4556-9ea5-c9db6297aa12",
   "metadata": {},
   "outputs": [
    {
     "name": "stdout",
     "output_type": "stream",
     "text": [
      "[12  1  4  6  7  9  3  4  5 22 33  7  6  9  1  2 12]\n",
      "(array([ 1,  2,  3,  4,  5,  6,  7,  9, 12, 22, 33]), array([ 1, 15,  6,  2,  8,  3,  4,  5,  0,  9, 10], dtype=int64))\n"
     ]
    }
   ],
   "source": [
    "k = np.array([12,1,4,6,7,9,3,4,5,22,33,7,6,9,1,2,12])\n",
    "print(k)\n",
    "x = np.unique(k, return_index = True)   #index positon to see\n",
    "print(x)"
   ]
  },
  {
   "cell_type": "code",
   "execution_count": 112,
   "id": "2643cb4a-3860-440f-a2f5-d0fb45082349",
   "metadata": {},
   "outputs": [
    {
     "name": "stdout",
     "output_type": "stream",
     "text": [
      "[12  1  4  6  7  9  3  4  5 22 33  7  6  9  1  2 12]\n",
      "(array([ 1,  2,  3,  4,  5,  6,  7,  9, 12, 22, 33]), array([ 1, 15,  6,  2,  8,  3,  4,  5,  0,  9, 10], dtype=int64), array([2, 1, 1, 2, 1, 2, 2, 2, 2, 1, 1], dtype=int64))\n"
     ]
    }
   ],
   "source": [
    "k = np.array([12,1,4,6,7,9,3,4,5,22,33,7,6,9,1,2,12])\n",
    "print(k)\n",
    "x = np.unique(k, return_index = True, return_counts = True) #which number have 2 time in array\n",
    "print(x)"
   ]
  },
  {
   "cell_type": "code",
   "execution_count": 114,
   "id": "4f521c12-2eb0-4fe9-ae53-e5ad1665414c",
   "metadata": {},
   "outputs": [],
   "source": [
    "# Delete Function"
   ]
  },
  {
   "cell_type": "code",
   "execution_count": 116,
   "id": "2e5e0cf1-3be5-44a3-8bfd-c1aed726c44f",
   "metadata": {},
   "outputs": [
    {
     "data": {
      "text/plain": [
       "array([2, 3, 4])"
      ]
     },
     "execution_count": 116,
     "metadata": {},
     "output_type": "execute_result"
    }
   ],
   "source": [
    "a = ([1,2,3,4])\n",
    "d = np.delete(a, 0)\n",
    "d"
   ]
  },
  {
   "cell_type": "code",
   "execution_count": 122,
   "id": "202d5e60-4081-4cd7-a272-562726657f75",
   "metadata": {},
   "outputs": [],
   "source": [
    "a = ([[[1,2,3],[4,5,6]],[[7,8,9],[10,11,12]]])\n",
    "d = np.delete(a, 1, axis = 1)"
   ]
  },
  {
   "cell_type": "code",
   "execution_count": 124,
   "id": "12db4496-a5b3-46fd-b425-4537499f7480",
   "metadata": {},
   "outputs": [
    {
     "data": {
      "text/plain": [
       "array([[[1, 2, 3]],\n",
       "\n",
       "       [[7, 8, 9]]])"
      ]
     },
     "execution_count": 124,
     "metadata": {},
     "output_type": "execute_result"
    }
   ],
   "source": [
    "d"
   ]
  },
  {
   "cell_type": "code",
   "execution_count": 126,
   "id": "fc1fb76f-99aa-4bb5-affa-6b302aba303c",
   "metadata": {},
   "outputs": [],
   "source": [
    "# some basic function on numpy"
   ]
  },
  {
   "cell_type": "code",
   "execution_count": 128,
   "id": "2cc3ffb1-f2da-4ef9-86c1-104cf19e21ce",
   "metadata": {},
   "outputs": [
    {
     "name": "stdout",
     "output_type": "stream",
     "text": [
      "No. of dimension:  3\n",
      "shape of array:  (2, 2, 3)\n",
      "size of array:  12\n",
      "Array stores elements in bytes:  int32\n",
      "length of one array element in bytes:  4\n",
      "array's data  <memory at 0x000002451558BE20>\n"
     ]
    }
   ],
   "source": [
    "arr = np.array([[[1,2,3],[4,5,6]],[[7,8,9],[10,11,12]]])\n",
    "print(\"No. of dimension: \", arr.ndim)\n",
    "print(\"shape of array: \", arr.shape)\n",
    "print(\"size of array: \", arr.size)\n",
    "print(\"Array stores elements in bytes: \", arr.dtype)\n",
    "print(\"length of one array element in bytes: \", arr.itemsize)\n",
    "print(\"array's data \", arr.data)"
   ]
  },
  {
   "cell_type": "code",
   "execution_count": 130,
   "id": "0d141bc1-8ff1-4592-b9e1-9967c7041a28",
   "metadata": {},
   "outputs": [
    {
     "name": "stdout",
     "output_type": "stream",
     "text": [
      "[[1 2 3]\n",
      " [4 5 6]\n",
      " [7 8 9]]\n"
     ]
    }
   ],
   "source": [
    "#reshape\n",
    "\n",
    "a = np.array([1,2,3,4,5,6,7,8,9])\n",
    "b = a.reshape(3,3)\n",
    "print(b)"
   ]
  }
 ],
 "metadata": {
  "kernelspec": {
   "display_name": "Python 3 (ipykernel)",
   "language": "python",
   "name": "python3"
  },
  "language_info": {
   "codemirror_mode": {
    "name": "ipython",
    "version": 3
   },
   "file_extension": ".py",
   "mimetype": "text/x-python",
   "name": "python",
   "nbconvert_exporter": "python",
   "pygments_lexer": "ipython3",
   "version": "3.11.7"
  }
 },
 "nbformat": 4,
 "nbformat_minor": 5
}
